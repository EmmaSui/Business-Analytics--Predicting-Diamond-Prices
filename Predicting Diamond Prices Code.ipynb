{
 "cells": [
  {
   "cell_type": "code",
   "execution_count": 1,
   "id": "84538f41",
   "metadata": {},
   "outputs": [],
   "source": [
    "# import all the libraries\n",
    "import pandas as pd\n",
    "import matplotlib.pyplot as plt\n",
    "import numpy as np\n",
    "import statsmodels.api as sm\n",
    "import seaborn as sns\n",
    "\n",
    "from sklearn.model_selection import train_test_split\n",
    "from sklearn.linear_model import LinearRegression\n",
    "from statsmodels.stats.outliers_influence import variance_inflation_factor\n",
    "\n",
    "%matplotlib inline"
   ]
  },
  {
   "cell_type": "code",
   "execution_count": 2,
   "id": "6a41130b",
   "metadata": {},
   "outputs": [
    {
     "data": {
      "text/html": [
       "<div>\n",
       "<style scoped>\n",
       "    .dataframe tbody tr th:only-of-type {\n",
       "        vertical-align: middle;\n",
       "    }\n",
       "\n",
       "    .dataframe tbody tr th {\n",
       "        vertical-align: top;\n",
       "    }\n",
       "\n",
       "    .dataframe thead th {\n",
       "        text-align: right;\n",
       "    }\n",
       "</style>\n",
       "<table border=\"1\" class=\"dataframe\">\n",
       "  <thead>\n",
       "    <tr style=\"text-align: right;\">\n",
       "      <th></th>\n",
       "      <th>carat</th>\n",
       "      <th>cut</th>\n",
       "      <th>cut_ord</th>\n",
       "      <th>color</th>\n",
       "      <th>clarity</th>\n",
       "      <th>clarity_ord</th>\n",
       "      <th>price</th>\n",
       "    </tr>\n",
       "  </thead>\n",
       "  <tbody>\n",
       "    <tr>\n",
       "      <th>1</th>\n",
       "      <td>0.51</td>\n",
       "      <td>Premium</td>\n",
       "      <td>4</td>\n",
       "      <td>F</td>\n",
       "      <td>VS1</td>\n",
       "      <td>4</td>\n",
       "      <td>1749</td>\n",
       "    </tr>\n",
       "    <tr>\n",
       "      <th>2</th>\n",
       "      <td>2.25</td>\n",
       "      <td>Fair</td>\n",
       "      <td>1</td>\n",
       "      <td>G</td>\n",
       "      <td>I1</td>\n",
       "      <td>1</td>\n",
       "      <td>7069</td>\n",
       "    </tr>\n",
       "    <tr>\n",
       "      <th>3</th>\n",
       "      <td>0.70</td>\n",
       "      <td>Very Good</td>\n",
       "      <td>3</td>\n",
       "      <td>E</td>\n",
       "      <td>VS2</td>\n",
       "      <td>5</td>\n",
       "      <td>2757</td>\n",
       "    </tr>\n",
       "    <tr>\n",
       "      <th>4</th>\n",
       "      <td>0.47</td>\n",
       "      <td>Good</td>\n",
       "      <td>2</td>\n",
       "      <td>F</td>\n",
       "      <td>VS1</td>\n",
       "      <td>4</td>\n",
       "      <td>1243</td>\n",
       "    </tr>\n",
       "    <tr>\n",
       "      <th>5</th>\n",
       "      <td>0.30</td>\n",
       "      <td>Ideal</td>\n",
       "      <td>5</td>\n",
       "      <td>G</td>\n",
       "      <td>VVS1</td>\n",
       "      <td>7</td>\n",
       "      <td>789</td>\n",
       "    </tr>\n",
       "  </tbody>\n",
       "</table>\n",
       "</div>"
      ],
      "text/plain": [
       "   carat        cut  cut_ord color clarity  clarity_ord  price\n",
       "1   0.51    Premium        4     F     VS1            4   1749\n",
       "2   2.25       Fair        1     G      I1            1   7069\n",
       "3   0.70  Very Good        3     E     VS2            5   2757\n",
       "4   0.47       Good        2     F     VS1            4   1243\n",
       "5   0.30      Ideal        5     G    VVS1            7    789"
      ]
     },
     "execution_count": 2,
     "metadata": {},
     "output_type": "execute_result"
    }
   ],
   "source": [
    "#import files\n",
    "diamond = pd.read_csv('diamonds.csv', header = 0, index_col = 0)\n",
    "diamond.head()"
   ]
  },
  {
   "cell_type": "code",
   "execution_count": 3,
   "id": "98b6118c",
   "metadata": {},
   "outputs": [
    {
     "data": {
      "text/html": [
       "<div>\n",
       "<style scoped>\n",
       "    .dataframe tbody tr th:only-of-type {\n",
       "        vertical-align: middle;\n",
       "    }\n",
       "\n",
       "    .dataframe tbody tr th {\n",
       "        vertical-align: top;\n",
       "    }\n",
       "\n",
       "    .dataframe thead th {\n",
       "        text-align: right;\n",
       "    }\n",
       "</style>\n",
       "<table border=\"1\" class=\"dataframe\">\n",
       "  <thead>\n",
       "    <tr style=\"text-align: right;\">\n",
       "      <th></th>\n",
       "      <th>carat</th>\n",
       "      <th>cut_ord</th>\n",
       "      <th>clarity_ord</th>\n",
       "      <th>price</th>\n",
       "    </tr>\n",
       "  </thead>\n",
       "  <tbody>\n",
       "    <tr>\n",
       "      <th>count</th>\n",
       "      <td>50000.000000</td>\n",
       "      <td>50000.000000</td>\n",
       "      <td>50000.000000</td>\n",
       "      <td>50000.000000</td>\n",
       "    </tr>\n",
       "    <tr>\n",
       "      <th>mean</th>\n",
       "      <td>0.798597</td>\n",
       "      <td>3.903980</td>\n",
       "      <td>4.126700</td>\n",
       "      <td>3939.103500</td>\n",
       "    </tr>\n",
       "    <tr>\n",
       "      <th>std</th>\n",
       "      <td>0.474651</td>\n",
       "      <td>1.117043</td>\n",
       "      <td>1.665564</td>\n",
       "      <td>3995.879832</td>\n",
       "    </tr>\n",
       "    <tr>\n",
       "      <th>min</th>\n",
       "      <td>0.200000</td>\n",
       "      <td>1.000000</td>\n",
       "      <td>1.000000</td>\n",
       "      <td>326.000000</td>\n",
       "    </tr>\n",
       "    <tr>\n",
       "      <th>25%</th>\n",
       "      <td>0.400000</td>\n",
       "      <td>3.000000</td>\n",
       "      <td>3.000000</td>\n",
       "      <td>948.000000</td>\n",
       "    </tr>\n",
       "    <tr>\n",
       "      <th>50%</th>\n",
       "      <td>0.700000</td>\n",
       "      <td>4.000000</td>\n",
       "      <td>4.000000</td>\n",
       "      <td>2402.500000</td>\n",
       "    </tr>\n",
       "    <tr>\n",
       "      <th>75%</th>\n",
       "      <td>1.040000</td>\n",
       "      <td>5.000000</td>\n",
       "      <td>5.000000</td>\n",
       "      <td>5331.000000</td>\n",
       "    </tr>\n",
       "    <tr>\n",
       "      <th>max</th>\n",
       "      <td>5.010000</td>\n",
       "      <td>5.000000</td>\n",
       "      <td>8.000000</td>\n",
       "      <td>18823.000000</td>\n",
       "    </tr>\n",
       "  </tbody>\n",
       "</table>\n",
       "</div>"
      ],
      "text/plain": [
       "              carat       cut_ord   clarity_ord         price\n",
       "count  50000.000000  50000.000000  50000.000000  50000.000000\n",
       "mean       0.798597      3.903980      4.126700   3939.103500\n",
       "std        0.474651      1.117043      1.665564   3995.879832\n",
       "min        0.200000      1.000000      1.000000    326.000000\n",
       "25%        0.400000      3.000000      3.000000    948.000000\n",
       "50%        0.700000      4.000000      4.000000   2402.500000\n",
       "75%        1.040000      5.000000      5.000000   5331.000000\n",
       "max        5.010000      5.000000      8.000000  18823.000000"
      ]
     },
     "execution_count": 3,
     "metadata": {},
     "output_type": "execute_result"
    }
   ],
   "source": [
    "diamond.describe()"
   ]
  },
  {
   "cell_type": "markdown",
   "id": "f7da1a1f",
   "metadata": {},
   "source": [
    "# Check for multicollinearity"
   ]
  },
  {
   "cell_type": "code",
   "execution_count": 10,
   "id": "e1120b6a",
   "metadata": {},
   "outputs": [
    {
     "data": {
      "text/html": [
       "<div>\n",
       "<style scoped>\n",
       "    .dataframe tbody tr th:only-of-type {\n",
       "        vertical-align: middle;\n",
       "    }\n",
       "\n",
       "    .dataframe tbody tr th {\n",
       "        vertical-align: top;\n",
       "    }\n",
       "\n",
       "    .dataframe thead th {\n",
       "        text-align: right;\n",
       "    }\n",
       "</style>\n",
       "<table border=\"1\" class=\"dataframe\">\n",
       "  <thead>\n",
       "    <tr style=\"text-align: right;\">\n",
       "      <th></th>\n",
       "      <th>carat</th>\n",
       "      <th>cut_ord</th>\n",
       "      <th>clarity_ord</th>\n",
       "      <th>price</th>\n",
       "    </tr>\n",
       "  </thead>\n",
       "  <tbody>\n",
       "    <tr>\n",
       "      <th>carat</th>\n",
       "      <td>1.000000</td>\n",
       "      <td>-0.135679</td>\n",
       "      <td>-0.343725</td>\n",
       "      <td>0.921777</td>\n",
       "    </tr>\n",
       "    <tr>\n",
       "      <th>cut_ord</th>\n",
       "      <td>-0.135679</td>\n",
       "      <td>1.000000</td>\n",
       "      <td>0.189461</td>\n",
       "      <td>-0.053804</td>\n",
       "    </tr>\n",
       "    <tr>\n",
       "      <th>clarity_ord</th>\n",
       "      <td>-0.343725</td>\n",
       "      <td>0.189461</td>\n",
       "      <td>1.000000</td>\n",
       "      <td>-0.142159</td>\n",
       "    </tr>\n",
       "    <tr>\n",
       "      <th>price</th>\n",
       "      <td>0.921777</td>\n",
       "      <td>-0.053804</td>\n",
       "      <td>-0.142159</td>\n",
       "      <td>1.000000</td>\n",
       "    </tr>\n",
       "  </tbody>\n",
       "</table>\n",
       "</div>"
      ],
      "text/plain": [
       "                carat   cut_ord  clarity_ord     price\n",
       "carat        1.000000 -0.135679    -0.343725  0.921777\n",
       "cut_ord     -0.135679  1.000000     0.189461 -0.053804\n",
       "clarity_ord -0.343725  0.189461     1.000000 -0.142159\n",
       "price        0.921777 -0.053804    -0.142159  1.000000"
      ]
     },
     "metadata": {},
     "output_type": "display_data"
    },
    {
     "data": {
      "text/plain": [
       "<AxesSubplot:>"
      ]
     },
     "execution_count": 10,
     "metadata": {},
     "output_type": "execute_result"
    },
    {
     "data": {
      "image/png": "[encoded data removed]",
      "text/plain": [
       "<Figure size 432x288 with 2 Axes>"
      ]
     },
     "metadata": {
      "needs_background": "light"
     },
     "output_type": "display_data"
    }
   ],
   "source": [
    "#print out a correlation matrix of diamond\n",
    "corr = diamond.corr()\n",
    "display(corr)\n",
    "\n",
    "#plot a heatmap\n",
    "sns.heatmap(corr,xticklabels=corr.columns, yticklabels=corr.columns, cmap ='Blues')"
   ]
  },
  {
   "cell_type": "markdown",
   "id": "93df7cb1",
   "metadata": {},
   "source": [
    "Since price is the dependent variable, although a correlation 0.92 is hight, it doesn't mean there is multicollinearity. From the matrix, none of the independent variables have high correlations, which means there is no multicollinearity. We can continue to the next step."
   ]
  },
  {
   "cell_type": "code",
   "execution_count": 11,
   "id": "766014f0",
   "metadata": {},
   "outputs": [
    {
     "data": {
      "image/png": "[encoded data removed]",
      "text/plain": [
       "<Figure size 432x288 with 16 Axes>"
      ]
     },
     "metadata": {
      "needs_background": "light"
     },
     "output_type": "display_data"
    }
   ],
   "source": [
    "pd.plotting.scatter_matrix(diamond, alpha = 1)\n",
    "plt.show()"
   ]
  },
  {
   "cell_type": "markdown",
   "id": "721c1daf",
   "metadata": {},
   "source": [
    "The graph above shows that except price, all the other variables are scattered and non-related."
   ]
  },
  {
   "cell_type": "code",
   "execution_count": 12,
   "id": "8cabdd5b",
   "metadata": {},
   "outputs": [
    {
     "data": {
      "text/html": [
       "<div>\n",
       "<style scoped>\n",
       "    .dataframe tbody tr th:only-of-type {\n",
       "        vertical-align: middle;\n",
       "    }\n",
       "\n",
       "    .dataframe tbody tr th {\n",
       "        vertical-align: top;\n",
       "    }\n",
       "\n",
       "    .dataframe thead th {\n",
       "        text-align: right;\n",
       "    }\n",
       "</style>\n",
       "<table border=\"1\" class=\"dataframe\">\n",
       "  <thead>\n",
       "    <tr style=\"text-align: right;\">\n",
       "      <th></th>\n",
       "      <th>carat</th>\n",
       "      <th>cut_ord</th>\n",
       "      <th>clarity_ord</th>\n",
       "      <th>price</th>\n",
       "    </tr>\n",
       "  </thead>\n",
       "  <tbody>\n",
       "    <tr>\n",
       "      <th>count</th>\n",
       "      <td>50000.000000</td>\n",
       "      <td>50000.000000</td>\n",
       "      <td>50000.000000</td>\n",
       "      <td>50000.000000</td>\n",
       "    </tr>\n",
       "    <tr>\n",
       "      <th>mean</th>\n",
       "      <td>0.798597</td>\n",
       "      <td>3.903980</td>\n",
       "      <td>4.126700</td>\n",
       "      <td>3939.103500</td>\n",
       "    </tr>\n",
       "    <tr>\n",
       "      <th>std</th>\n",
       "      <td>0.474651</td>\n",
       "      <td>1.117043</td>\n",
       "      <td>1.665564</td>\n",
       "      <td>3995.879832</td>\n",
       "    </tr>\n",
       "    <tr>\n",
       "      <th>min</th>\n",
       "      <td>0.200000</td>\n",
       "      <td>1.000000</td>\n",
       "      <td>1.000000</td>\n",
       "      <td>326.000000</td>\n",
       "    </tr>\n",
       "    <tr>\n",
       "      <th>25%</th>\n",
       "      <td>0.400000</td>\n",
       "      <td>3.000000</td>\n",
       "      <td>3.000000</td>\n",
       "      <td>948.000000</td>\n",
       "    </tr>\n",
       "    <tr>\n",
       "      <th>50%</th>\n",
       "      <td>0.700000</td>\n",
       "      <td>4.000000</td>\n",
       "      <td>4.000000</td>\n",
       "      <td>2402.500000</td>\n",
       "    </tr>\n",
       "    <tr>\n",
       "      <th>75%</th>\n",
       "      <td>1.040000</td>\n",
       "      <td>5.000000</td>\n",
       "      <td>5.000000</td>\n",
       "      <td>5331.000000</td>\n",
       "    </tr>\n",
       "    <tr>\n",
       "      <th>max</th>\n",
       "      <td>5.010000</td>\n",
       "      <td>5.000000</td>\n",
       "      <td>8.000000</td>\n",
       "      <td>18823.000000</td>\n",
       "    </tr>\n",
       "  </tbody>\n",
       "</table>\n",
       "</div>"
      ],
      "text/plain": [
       "              carat       cut_ord   clarity_ord         price\n",
       "count  50000.000000  50000.000000  50000.000000  50000.000000\n",
       "mean       0.798597      3.903980      4.126700   3939.103500\n",
       "std        0.474651      1.117043      1.665564   3995.879832\n",
       "min        0.200000      1.000000      1.000000    326.000000\n",
       "25%        0.400000      3.000000      3.000000    948.000000\n",
       "50%        0.700000      4.000000      4.000000   2402.500000\n",
       "75%        1.040000      5.000000      5.000000   5331.000000\n",
       "max        5.010000      5.000000      8.000000  18823.000000"
      ]
     },
     "execution_count": 12,
     "metadata": {},
     "output_type": "execute_result"
    }
   ],
   "source": [
    "#create a description with +- 3 standard deviation in order to decide whether we want to delete outliers. (In this case we don't)\n",
    "\n",
    "desc_diamond = diamond.describe()\n",
    "desc_diamond"
   ]
  },
  {
   "cell_type": "code",
   "execution_count": 13,
   "id": "dbc4cce1",
   "metadata": {},
   "outputs": [
    {
     "data": {
      "text/html": [
       "<div>\n",
       "<style scoped>\n",
       "    .dataframe tbody tr th:only-of-type {\n",
       "        vertical-align: middle;\n",
       "    }\n",
       "\n",
       "    .dataframe tbody tr th {\n",
       "        vertical-align: top;\n",
       "    }\n",
       "\n",
       "    .dataframe thead th {\n",
       "        text-align: right;\n",
       "    }\n",
       "</style>\n",
       "<table border=\"1\" class=\"dataframe\">\n",
       "  <thead>\n",
       "    <tr style=\"text-align: right;\">\n",
       "      <th></th>\n",
       "      <th>carat</th>\n",
       "      <th>cut_ord</th>\n",
       "      <th>clarity_ord</th>\n",
       "      <th>price</th>\n",
       "    </tr>\n",
       "  </thead>\n",
       "  <tbody>\n",
       "    <tr>\n",
       "      <th>count</th>\n",
       "      <td>50000.000000</td>\n",
       "      <td>50000.000000</td>\n",
       "      <td>50000.000000</td>\n",
       "      <td>50000.000000</td>\n",
       "    </tr>\n",
       "    <tr>\n",
       "      <th>mean</th>\n",
       "      <td>0.798597</td>\n",
       "      <td>3.903980</td>\n",
       "      <td>4.126700</td>\n",
       "      <td>3939.103500</td>\n",
       "    </tr>\n",
       "    <tr>\n",
       "      <th>std</th>\n",
       "      <td>0.474651</td>\n",
       "      <td>1.117043</td>\n",
       "      <td>1.665564</td>\n",
       "      <td>3995.879832</td>\n",
       "    </tr>\n",
       "    <tr>\n",
       "      <th>min</th>\n",
       "      <td>0.200000</td>\n",
       "      <td>1.000000</td>\n",
       "      <td>1.000000</td>\n",
       "      <td>326.000000</td>\n",
       "    </tr>\n",
       "    <tr>\n",
       "      <th>25%</th>\n",
       "      <td>0.400000</td>\n",
       "      <td>3.000000</td>\n",
       "      <td>3.000000</td>\n",
       "      <td>948.000000</td>\n",
       "    </tr>\n",
       "    <tr>\n",
       "      <th>50%</th>\n",
       "      <td>0.700000</td>\n",
       "      <td>4.000000</td>\n",
       "      <td>4.000000</td>\n",
       "      <td>2402.500000</td>\n",
       "    </tr>\n",
       "    <tr>\n",
       "      <th>75%</th>\n",
       "      <td>1.040000</td>\n",
       "      <td>5.000000</td>\n",
       "      <td>5.000000</td>\n",
       "      <td>5331.000000</td>\n",
       "    </tr>\n",
       "    <tr>\n",
       "      <th>max</th>\n",
       "      <td>5.010000</td>\n",
       "      <td>5.000000</td>\n",
       "      <td>8.000000</td>\n",
       "      <td>18823.000000</td>\n",
       "    </tr>\n",
       "    <tr>\n",
       "      <th>+3_std</th>\n",
       "      <td>2.222551</td>\n",
       "      <td>7.255109</td>\n",
       "      <td>9.123391</td>\n",
       "      <td>15926.742997</td>\n",
       "    </tr>\n",
       "    <tr>\n",
       "      <th>-3_std</th>\n",
       "      <td>-0.625357</td>\n",
       "      <td>0.552851</td>\n",
       "      <td>-0.869991</td>\n",
       "      <td>-8048.535997</td>\n",
       "    </tr>\n",
       "  </tbody>\n",
       "</table>\n",
       "</div>"
      ],
      "text/plain": [
       "               carat       cut_ord   clarity_ord         price\n",
       "count   50000.000000  50000.000000  50000.000000  50000.000000\n",
       "mean        0.798597      3.903980      4.126700   3939.103500\n",
       "std         0.474651      1.117043      1.665564   3995.879832\n",
       "min         0.200000      1.000000      1.000000    326.000000\n",
       "25%         0.400000      3.000000      3.000000    948.000000\n",
       "50%         0.700000      4.000000      4.000000   2402.500000\n",
       "75%         1.040000      5.000000      5.000000   5331.000000\n",
       "max         5.010000      5.000000      8.000000  18823.000000\n",
       "+3_std      2.222551      7.255109      9.123391  15926.742997\n",
       "-3_std     -0.625357      0.552851     -0.869991  -8048.535997"
      ]
     },
     "execution_count": 13,
     "metadata": {},
     "output_type": "execute_result"
    }
   ],
   "source": [
    "desc_diamond.loc['+3_std'] = desc_diamond.loc['mean'] + (desc_diamond.loc['std']*3)\n",
    "desc_diamond.loc['-3_std'] = desc_diamond.loc['mean'] - (desc_diamond.loc['std']*3)\n",
    "\n",
    "desc_diamond"
   ]
  },
  {
   "cell_type": "markdown",
   "id": "a6a593e8",
   "metadata": {},
   "source": [
    "# Build Multiple Linear Regression Model using Machine Learning"
   ]
  },
  {
   "cell_type": "code",
   "execution_count": 14,
   "id": "d2696c01",
   "metadata": {},
   "outputs": [
    {
     "name": "stdout",
     "output_type": "stream",
     "text": [
      "   carat  cut_ord  clarity_ord\n",
      "1   0.51        4            4\n",
      "2   2.25        1            1\n",
      "3   0.70        3            5\n",
      "4   0.47        2            4\n",
      "5   0.30        5            7\n",
      "------------------------------\n",
      "   price\n",
      "1   1749\n",
      "2   7069\n",
      "3   2757\n",
      "4   1243\n",
      "5    789\n"
     ]
    }
   ],
   "source": [
    "#split the data by defining the input variables and output variable\n",
    "X = diamond[['carat','cut_ord','clarity_ord']]\n",
    "Y = diamond[['price']]\n",
    "\n",
    "print(X.head())\n",
    "print('-'*30)\n",
    "print(Y.head())"
   ]
  },
  {
   "cell_type": "code",
   "execution_count": 15,
   "id": "07d329fa",
   "metadata": {},
   "outputs": [
    {
     "data": {
      "text/plain": [
       "LinearRegression()"
      ]
     },
     "execution_count": 15,
     "metadata": {},
     "output_type": "execute_result"
    }
   ],
   "source": [
    "X_train, X_test, Y_train, Y_test = train_test_split(X,Y,test_size=0.2, random_state=1)\n",
    "\n",
    "regression_model = LinearRegression()\n",
    "\n",
    "regression_model.fit(X_train, Y_train)"
   ]
  },
  {
   "cell_type": "code",
   "execution_count": 16,
   "id": "997c2b64",
   "metadata": {},
   "outputs": [
    {
     "data": {
      "text/plain": [
       "-5242.933934312547"
      ]
     },
     "execution_count": 16,
     "metadata": {},
     "output_type": "execute_result"
    }
   ],
   "source": [
    "#grab the intercept and the coef\n",
    "intercept = regression_model.intercept_[0]\n",
    "intercept"
   ]
  },
  {
   "cell_type": "code",
   "execution_count": 18,
   "id": "8e36e1c6",
   "metadata": {},
   "outputs": [
    {
     "name": "stdout",
     "output_type": "stream",
     "text": [
      "The intercept for our model is -5.243e+03\n"
     ]
    }
   ],
   "source": [
    "print('The intercept for our model is {:.4}'.format(intercept))"
   ]
  },
  {
   "cell_type": "code",
   "execution_count": 19,
   "id": "75baa41b",
   "metadata": {},
   "outputs": [
    {
     "name": "stdout",
     "output_type": "stream",
     "text": [
      "The coefficient for carat is 8.355e+03\n",
      "The coefficient for cut_ord is 158.9\n",
      "The coefficient for clarity_ord is 457.5\n"
     ]
    }
   ],
   "source": [
    "#loop through the dictionary and print the data\n",
    "for coef in zip(X.columns, regression_model.coef_[0]):\n",
    "    print('The coefficient for {} is {:.4}'.format(coef[0],coef[1]))"
   ]
  },
  {
   "cell_type": "markdown",
   "id": "d0b7572c",
   "metadata": {},
   "source": [
    "### From the results above, the regression formula is\n",
    "### Price = -5243 + 8355*carat + 158.9*cut_ord + 457.5*clarity_ord"
   ]
  },
  {
   "cell_type": "markdown",
   "id": "d5df6bc5",
   "metadata": {},
   "source": [
    "# Verify the model"
   ]
  },
  {
   "cell_type": "code",
   "execution_count": 20,
   "id": "c71e43a7",
   "metadata": {},
   "outputs": [
    {
     "data": {
      "text/plain": [
       "array([[ 577.05722877],\n",
       "       [3683.90529238],\n",
       "       [5876.45496949],\n",
       "       ...,\n",
       "       [8629.38675149],\n",
       "       [-111.61227936],\n",
       "       [-178.85438894]])"
      ]
     },
     "execution_count": 20,
     "metadata": {},
     "output_type": "execute_result"
    }
   ],
   "source": [
    "y_predict = regression_model.predict(X_test)\n",
    "y_predict"
   ]
  },
  {
   "cell_type": "code",
   "execution_count": 22,
   "id": "a1392906",
   "metadata": {},
   "outputs": [],
   "source": [
    "#Evaluating the model using statsmodel\n",
    "#Creating a constant, define input\n",
    "X2 = sm.add_constant(X)\n",
    "model = sm.OLS(Y,X2)\n",
    "est = model.fit()"
   ]
  },
  {
   "cell_type": "code",
   "execution_count": 23,
   "id": "0eef47bb",
   "metadata": {},
   "outputs": [
    {
     "data": {
      "text/html": [
       "<table class=\"simpletable\">\n",
       "<caption>OLS Regression Results</caption>\n",
       "<tr>\n",
       "  <th>Dep. Variable:</th>          <td>price</td>      <th>  R-squared:         </th>  <td>   0.886</td>  \n",
       "</tr>\n",
       "<tr>\n",
       "  <th>Model:</th>                   <td>OLS</td>       <th>  Adj. R-squared:    </th>  <td>   0.886</td>  \n",
       "</tr>\n",
       "<tr>\n",
       "  <th>Method:</th>             <td>Least Squares</td>  <th>  F-statistic:       </th>  <td>1.298e+05</td> \n",
       "</tr>\n",
       "<tr>\n",
       "  <th>Date:</th>             <td>Fri, 11 Feb 2022</td> <th>  Prob (F-statistic):</th>   <td>  0.00</td>   \n",
       "</tr>\n",
       "<tr>\n",
       "  <th>Time:</th>                 <td>15:04:42</td>     <th>  Log-Likelihood:    </th> <td>-4.3126e+05</td>\n",
       "</tr>\n",
       "<tr>\n",
       "  <th>No. Observations:</th>      <td> 50000</td>      <th>  AIC:               </th>  <td>8.625e+05</td> \n",
       "</tr>\n",
       "<tr>\n",
       "  <th>Df Residuals:</th>          <td> 49996</td>      <th>  BIC:               </th>  <td>8.626e+05</td> \n",
       "</tr>\n",
       "<tr>\n",
       "  <th>Df Model:</th>              <td>     3</td>      <th>                     </th>      <td> </td>     \n",
       "</tr>\n",
       "<tr>\n",
       "  <th>Covariance Type:</th>      <td>nonrobust</td>    <th>                     </th>      <td> </td>     \n",
       "</tr>\n",
       "</table>\n",
       "<table class=\"simpletable\">\n",
       "<tr>\n",
       "       <td></td>          <th>coef</th>     <th>std err</th>      <th>t</th>      <th>P>|t|</th>  <th>[0.025</th>    <th>0.975]</th>  \n",
       "</tr>\n",
       "<tr>\n",
       "  <th>const</th>       <td>-5255.2231</td> <td>   30.320</td> <td> -173.326</td> <td> 0.000</td> <td>-5314.650</td> <td>-5195.796</td>\n",
       "</tr>\n",
       "<tr>\n",
       "  <th>carat</th>       <td> 8363.4167</td> <td>   13.565</td> <td>  616.547</td> <td> 0.000</td> <td> 8336.829</td> <td> 8390.004</td>\n",
       "</tr>\n",
       "<tr>\n",
       "  <th>cut_ord</th>     <td>  160.3786</td> <td>    5.513</td> <td>   29.093</td> <td> 0.000</td> <td>  149.574</td> <td>  171.183</td>\n",
       "</tr>\n",
       "<tr>\n",
       "  <th>clarity_ord</th> <td>  457.8018</td> <td>    3.901</td> <td>  117.366</td> <td> 0.000</td> <td>  450.157</td> <td>  465.447</td>\n",
       "</tr>\n",
       "</table>\n",
       "<table class=\"simpletable\">\n",
       "<tr>\n",
       "  <th>Omnibus:</th>       <td>11093.961</td> <th>  Durbin-Watson:     </th>  <td>   1.992</td> \n",
       "</tr>\n",
       "<tr>\n",
       "  <th>Prob(Omnibus):</th>  <td> 0.000</td>   <th>  Jarque-Bera (JB):  </th> <td>169582.750</td>\n",
       "</tr>\n",
       "<tr>\n",
       "  <th>Skew:</th>           <td> 0.651</td>   <th>  Prob(JB):          </th>  <td>    0.00</td> \n",
       "</tr>\n",
       "<tr>\n",
       "  <th>Kurtosis:</th>       <td>11.928</td>   <th>  Cond. No.          </th>  <td>    31.7</td> \n",
       "</tr>\n",
       "</table><br/><br/>Notes:<br/>[1] Standard Errors assume that the covariance matrix of the errors is correctly specified."
      ],
      "text/plain": [
       "<class 'statsmodels.iolib.summary.Summary'>\n",
       "\"\"\"\n",
       "                            OLS Regression Results                            \n",
       "==============================================================================\n",
       "Dep. Variable:                  price   R-squared:                       0.886\n",
       "Model:                            OLS   Adj. R-squared:                  0.886\n",
       "Method:                 Least Squares   F-statistic:                 1.298e+05\n",
       "Date:                Fri, 11 Feb 2022   Prob (F-statistic):               0.00\n",
       "Time:                        15:04:42   Log-Likelihood:            -4.3126e+05\n",
       "No. Observations:               50000   AIC:                         8.625e+05\n",
       "Df Residuals:                   49996   BIC:                         8.626e+05\n",
       "Df Model:                           3                                         \n",
       "Covariance Type:            nonrobust                                         \n",
       "===============================================================================\n",
       "                  coef    std err          t      P>|t|      [0.025      0.975]\n",
       "-------------------------------------------------------------------------------\n",
       "const       -5255.2231     30.320   -173.326      0.000   -5314.650   -5195.796\n",
       "carat        8363.4167     13.565    616.547      0.000    8336.829    8390.004\n",
       "cut_ord       160.3786      5.513     29.093      0.000     149.574     171.183\n",
       "clarity_ord   457.8018      3.901    117.366      0.000     450.157     465.447\n",
       "==============================================================================\n",
       "Omnibus:                    11093.961   Durbin-Watson:                   1.992\n",
       "Prob(Omnibus):                  0.000   Jarque-Bera (JB):           169582.750\n",
       "Skew:                           0.651   Prob(JB):                         0.00\n",
       "Kurtosis:                      11.928   Cond. No.                         31.7\n",
       "==============================================================================\n",
       "\n",
       "Notes:\n",
       "[1] Standard Errors assume that the covariance matrix of the errors is correctly specified.\n",
       "\"\"\""
      ]
     },
     "execution_count": 23,
     "metadata": {},
     "output_type": "execute_result"
    }
   ],
   "source": [
    "est.summary()"
   ]
  },
  {
   "cell_type": "markdown",
   "id": "5d14d5d6",
   "metadata": {},
   "source": [
    "# Data Visualization"
   ]
  },
  {
   "cell_type": "code",
   "execution_count": 24,
   "id": "f83e4e7b",
   "metadata": {},
   "outputs": [
    {
     "data": {
      "image/png": "[encoded data removed]",
      "text/plain": [
       "<Figure size 432x288 with 1 Axes>"
      ]
     },
     "metadata": {
      "needs_background": "light"
     },
     "output_type": "display_data"
    }
   ],
   "source": [
    "#Plot 1: show the old diamond price graph by putting carat on x axis, and price on y axis.\n",
    "fig,ax = plt.subplots()\n",
    "ax.scatter(x=diamond['carat'],y=diamond['price'], alpha=0.1)\n",
    "ax.set(title='Diamond prices over carat',\n",
    "      ylabel='Price',\n",
    "      xlabel='Carat')\n",
    "plt.show()"
   ]
  },
  {
   "cell_type": "code",
   "execution_count": 25,
   "id": "8cb26508",
   "metadata": {},
   "outputs": [
    {
     "data": {
      "text/html": [
       "<div>\n",
       "<style scoped>\n",
       "    .dataframe tbody tr th:only-of-type {\n",
       "        vertical-align: middle;\n",
       "    }\n",
       "\n",
       "    .dataframe tbody tr th {\n",
       "        vertical-align: top;\n",
       "    }\n",
       "\n",
       "    .dataframe thead th {\n",
       "        text-align: right;\n",
       "    }\n",
       "</style>\n",
       "<table border=\"1\" class=\"dataframe\">\n",
       "  <thead>\n",
       "    <tr style=\"text-align: right;\">\n",
       "      <th></th>\n",
       "      <th>carat</th>\n",
       "      <th>cut</th>\n",
       "      <th>cut_ord</th>\n",
       "      <th>color</th>\n",
       "      <th>clarity</th>\n",
       "      <th>clarity_ord</th>\n",
       "    </tr>\n",
       "  </thead>\n",
       "  <tbody>\n",
       "    <tr>\n",
       "      <th>1</th>\n",
       "      <td>1.22</td>\n",
       "      <td>Premium</td>\n",
       "      <td>4</td>\n",
       "      <td>G</td>\n",
       "      <td>SI1</td>\n",
       "      <td>3</td>\n",
       "    </tr>\n",
       "    <tr>\n",
       "      <th>2</th>\n",
       "      <td>1.01</td>\n",
       "      <td>Good</td>\n",
       "      <td>2</td>\n",
       "      <td>G</td>\n",
       "      <td>VS2</td>\n",
       "      <td>5</td>\n",
       "    </tr>\n",
       "    <tr>\n",
       "      <th>3</th>\n",
       "      <td>0.71</td>\n",
       "      <td>Very Good</td>\n",
       "      <td>3</td>\n",
       "      <td>I</td>\n",
       "      <td>VS2</td>\n",
       "      <td>5</td>\n",
       "    </tr>\n",
       "    <tr>\n",
       "      <th>4</th>\n",
       "      <td>1.01</td>\n",
       "      <td>Ideal</td>\n",
       "      <td>5</td>\n",
       "      <td>D</td>\n",
       "      <td>SI2</td>\n",
       "      <td>2</td>\n",
       "    </tr>\n",
       "    <tr>\n",
       "      <th>5</th>\n",
       "      <td>0.27</td>\n",
       "      <td>Ideal</td>\n",
       "      <td>5</td>\n",
       "      <td>H</td>\n",
       "      <td>VVS2</td>\n",
       "      <td>6</td>\n",
       "    </tr>\n",
       "  </tbody>\n",
       "</table>\n",
       "</div>"
      ],
      "text/plain": [
       "   carat        cut  cut_ord color clarity  clarity_ord\n",
       "1   1.22    Premium        4     G     SI1            3\n",
       "2   1.01       Good        2     G     VS2            5\n",
       "3   0.71  Very Good        3     I     VS2            5\n",
       "4   1.01      Ideal        5     D     SI2            2\n",
       "5   0.27      Ideal        5     H    VVS2            6"
      ]
     },
     "execution_count": 25,
     "metadata": {},
     "output_type": "execute_result"
    }
   ],
   "source": [
    "#import new diamond file and make predictions\n",
    "new_diamond = pd.read_csv('new-diamonds.csv',header=0,index_col=0)\n",
    "new_diamond.head()"
   ]
  },
  {
   "cell_type": "code",
   "execution_count": 26,
   "id": "8b0a4a23",
   "metadata": {},
   "outputs": [
    {
     "data": {
      "text/html": [
       "<div>\n",
       "<style scoped>\n",
       "    .dataframe tbody tr th:only-of-type {\n",
       "        vertical-align: middle;\n",
       "    }\n",
       "\n",
       "    .dataframe tbody tr th {\n",
       "        vertical-align: top;\n",
       "    }\n",
       "\n",
       "    .dataframe thead th {\n",
       "        text-align: right;\n",
       "    }\n",
       "</style>\n",
       "<table border=\"1\" class=\"dataframe\">\n",
       "  <thead>\n",
       "    <tr style=\"text-align: right;\">\n",
       "      <th></th>\n",
       "      <th>carat</th>\n",
       "      <th>cut_ord</th>\n",
       "      <th>clarity_ord</th>\n",
       "    </tr>\n",
       "  </thead>\n",
       "  <tbody>\n",
       "    <tr>\n",
       "      <th>count</th>\n",
       "      <td>3000.000000</td>\n",
       "      <td>3000.000000</td>\n",
       "      <td>3000.000000</td>\n",
       "    </tr>\n",
       "    <tr>\n",
       "      <th>mean</th>\n",
       "      <td>0.795440</td>\n",
       "      <td>3.908667</td>\n",
       "      <td>4.119333</td>\n",
       "    </tr>\n",
       "    <tr>\n",
       "      <th>std</th>\n",
       "      <td>0.475891</td>\n",
       "      <td>1.108182</td>\n",
       "      <td>1.663535</td>\n",
       "    </tr>\n",
       "    <tr>\n",
       "      <th>min</th>\n",
       "      <td>0.210000</td>\n",
       "      <td>1.000000</td>\n",
       "      <td>1.000000</td>\n",
       "    </tr>\n",
       "    <tr>\n",
       "      <th>25%</th>\n",
       "      <td>0.400000</td>\n",
       "      <td>3.000000</td>\n",
       "      <td>3.000000</td>\n",
       "    </tr>\n",
       "    <tr>\n",
       "      <th>50%</th>\n",
       "      <td>0.700000</td>\n",
       "      <td>4.000000</td>\n",
       "      <td>4.000000</td>\n",
       "    </tr>\n",
       "    <tr>\n",
       "      <th>75%</th>\n",
       "      <td>1.030000</td>\n",
       "      <td>5.000000</td>\n",
       "      <td>5.000000</td>\n",
       "    </tr>\n",
       "    <tr>\n",
       "      <th>max</th>\n",
       "      <td>3.010000</td>\n",
       "      <td>5.000000</td>\n",
       "      <td>8.000000</td>\n",
       "    </tr>\n",
       "  </tbody>\n",
       "</table>\n",
       "</div>"
      ],
      "text/plain": [
       "             carat      cut_ord  clarity_ord\n",
       "count  3000.000000  3000.000000  3000.000000\n",
       "mean      0.795440     3.908667     4.119333\n",
       "std       0.475891     1.108182     1.663535\n",
       "min       0.210000     1.000000     1.000000\n",
       "25%       0.400000     3.000000     3.000000\n",
       "50%       0.700000     4.000000     4.000000\n",
       "75%       1.030000     5.000000     5.000000\n",
       "max       3.010000     5.000000     8.000000"
      ]
     },
     "execution_count": 26,
     "metadata": {},
     "output_type": "execute_result"
    }
   ],
   "source": [
    "new_diamond.describe()"
   ]
  },
  {
   "cell_type": "code",
   "execution_count": 27,
   "id": "74b3eaeb",
   "metadata": {},
   "outputs": [
    {
     "data": {
      "text/html": [
       "<div>\n",
       "<style scoped>\n",
       "    .dataframe tbody tr th:only-of-type {\n",
       "        vertical-align: middle;\n",
       "    }\n",
       "\n",
       "    .dataframe tbody tr th {\n",
       "        vertical-align: top;\n",
       "    }\n",
       "\n",
       "    .dataframe thead th {\n",
       "        text-align: right;\n",
       "    }\n",
       "</style>\n",
       "<table border=\"1\" class=\"dataframe\">\n",
       "  <thead>\n",
       "    <tr style=\"text-align: right;\">\n",
       "      <th></th>\n",
       "      <th>carat</th>\n",
       "      <th>cut</th>\n",
       "      <th>cut_ord</th>\n",
       "      <th>color</th>\n",
       "      <th>clarity</th>\n",
       "      <th>clarity_ord</th>\n",
       "      <th>price</th>\n",
       "    </tr>\n",
       "  </thead>\n",
       "  <tbody>\n",
       "    <tr>\n",
       "      <th>1</th>\n",
       "      <td>1.22</td>\n",
       "      <td>Premium</td>\n",
       "      <td>4</td>\n",
       "      <td>G</td>\n",
       "      <td>SI1</td>\n",
       "      <td>3</td>\n",
       "      <td>6958.20</td>\n",
       "    </tr>\n",
       "    <tr>\n",
       "      <th>2</th>\n",
       "      <td>1.01</td>\n",
       "      <td>Good</td>\n",
       "      <td>2</td>\n",
       "      <td>G</td>\n",
       "      <td>VS2</td>\n",
       "      <td>5</td>\n",
       "      <td>5800.85</td>\n",
       "    </tr>\n",
       "    <tr>\n",
       "      <th>3</th>\n",
       "      <td>0.71</td>\n",
       "      <td>Very Good</td>\n",
       "      <td>3</td>\n",
       "      <td>I</td>\n",
       "      <td>VS2</td>\n",
       "      <td>5</td>\n",
       "      <td>3453.25</td>\n",
       "    </tr>\n",
       "    <tr>\n",
       "      <th>4</th>\n",
       "      <td>1.01</td>\n",
       "      <td>Ideal</td>\n",
       "      <td>5</td>\n",
       "      <td>D</td>\n",
       "      <td>SI2</td>\n",
       "      <td>2</td>\n",
       "      <td>4905.05</td>\n",
       "    </tr>\n",
       "    <tr>\n",
       "      <th>5</th>\n",
       "      <td>0.27</td>\n",
       "      <td>Ideal</td>\n",
       "      <td>5</td>\n",
       "      <td>H</td>\n",
       "      <td>VVS2</td>\n",
       "      <td>6</td>\n",
       "      <td>552.35</td>\n",
       "    </tr>\n",
       "  </tbody>\n",
       "</table>\n",
       "</div>"
      ],
      "text/plain": [
       "   carat        cut  cut_ord color clarity  clarity_ord    price\n",
       "1   1.22    Premium        4     G     SI1            3  6958.20\n",
       "2   1.01       Good        2     G     VS2            5  5800.85\n",
       "3   0.71  Very Good        3     I     VS2            5  3453.25\n",
       "4   1.01      Ideal        5     D     SI2            2  4905.05\n",
       "5   0.27      Ideal        5     H    VVS2            6   552.35"
      ]
     },
     "execution_count": 27,
     "metadata": {},
     "output_type": "execute_result"
    }
   ],
   "source": [
    "#add predicted prices column\n",
    "new_diamond['price']=-5243 + 8355*new_diamond['carat'] + 158.9*new_diamond['cut_ord'] + 457.5*new_diamond['clarity_ord']\n",
    "new_diamond.head()"
   ]
  },
  {
   "cell_type": "code",
   "execution_count": 29,
   "id": "803c1714",
   "metadata": {},
   "outputs": [
    {
     "data": {
      "image/png": "[encoded data removed]",
      "text/plain": [
       "<Figure size 432x288 with 1 Axes>"
      ]
     },
     "metadata": {
      "needs_background": "light"
     },
     "output_type": "display_data"
    }
   ],
   "source": [
    "#Plot 2: the predicted diamonds graph\n",
    "fig,ax = plt.subplots()\n",
    "ax.scatter(x=new_diamond['carat'],y=new_diamond['price'],alpha=0.2,color='red')\n",
    "ax.set(title='Predicted new diamond prices',\n",
    "      ylabel='Price',\n",
    "      xlabel='Carat')\n",
    "plt.show()"
   ]
  },
  {
   "cell_type": "code",
   "execution_count": 30,
   "id": "137c0cf8",
   "metadata": {},
   "outputs": [
    {
     "data": {
      "image/png": "[encoded data removed]",
      "text/plain": [
       "<Figure size 432x288 with 1 Axes>"
      ]
     },
     "metadata": {
      "needs_background": "light"
     },
     "output_type": "display_data"
    }
   ],
   "source": [
    "#Plot both sets of data on the same chart\n",
    "fig, ax = plt.subplots()\n",
    "ax.scatter(x=diamond['carat'],y=diamond['price'],alpha=0.1)\n",
    "ax.scatter(x=new_diamond['carat'],y=new_diamond['price'],alpha=0.1,color='red')\n",
    "ax.set(ylabel='Price',\n",
    "      xlabel='Carat')\n",
    "ax.legend(['diamond','new diamond'])\n",
    "plt.show()"
   ]
  },
  {
   "cell_type": "code",
   "execution_count": 31,
   "id": "ec16035c",
   "metadata": {},
   "outputs": [
    {
     "name": "stdout",
     "output_type": "stream",
     "text": [
      "11725750.0\n"
     ]
    }
   ],
   "source": [
    "#Sum all the predicted prices together in order to give purchasing recommendations\n",
    "sum_price = new_diamond['price'].sum()\n",
    "print(sum_price)"
   ]
  },
  {
   "cell_type": "code",
   "execution_count": null,
   "id": "f164cc4e",
   "metadata": {},
   "outputs": [],
   "source": []
  }
 ],
 "metadata": {
  "kernelspec": {
   "display_name": "Python 3 (ipykernel)",
   "language": "python",
   "name": "python3"
  },
  "language_info": {
   "codemirror_mode": {
    "name": "ipython",
    "version": 3
   },
   "file_extension": ".py",
   "mimetype": "text/x-python",
   "name": "python",
   "nbconvert_exporter": "python",
   "pygments_lexer": "ipython3",
   "version": "3.8.12"
  }
 },
 "nbformat": 4,
 "nbformat_minor": 5
}
